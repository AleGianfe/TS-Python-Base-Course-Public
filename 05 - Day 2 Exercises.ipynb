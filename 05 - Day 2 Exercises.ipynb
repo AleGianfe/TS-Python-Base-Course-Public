{
 "cells": [
  {
   "cell_type": "markdown",
   "id": "445bdaa5-4e50-44c9-84df-02f7633046d9",
   "metadata": {},
   "source": [
    "# **Python Basics Course: Exercises**"
   ]
  },
  {
   "cell_type": "markdown",
   "id": "38df6215-2070-47f7-b7d7-a4d16083ff90",
   "metadata": {},
   "source": [
    "# **2. Class and Objects in Python**"
   ]
  },
  {
   "cell_type": "markdown",
   "id": "9c0feda5-c613-48b3-b9a8-4ae18bfee4fb",
   "metadata": {},
   "source": [
    "**Exercise 1.1: Class and Instance Attributes**\n",
    "\n",
    "1. Create a class called `Person` with the following attributes:\n",
    "   - `name`: A string representing the name of the person.\n",
    "   - `age`: An integer representing the person's age.\n",
    "   - `city`: A string representing the city where the person lives.\n",
    "\n",
    "2. Create an instance of the `Person` class with:\n",
    "    - Name: `\"Alice\"`\n",
    "    - Age: `30`\n",
    "    - City: `\"Campobasso\"`\n",
    "\n",
    "3. Access the `name` and `city` attributes of the instance and print them.\n",
    "\n",
    "4. Modify the `age` attribute of the instance to `31` and print the new value."
   ]
  },
  {
   "cell_type": "code",
   "execution_count": null,
   "id": "6496d9ae-8ee9-44ad-bc51-8b5b0eb175da",
   "metadata": {},
   "outputs": [],
   "source": [
    "# Your solution\n",
    "\n",
    "# Step 1: Define the Person class with attributes and a method\n",
    "class Person:\n",
    " def __init__(self, name, age, city):\n",
    "     ...\n",
    "\n",
    "# Step 2: Create an instance of the Person class\n",
    "person1 = ...\n",
    "\n",
    "# Step 3: Access and print the name and city attributes\n",
    "print(f\"Name: {person1.name}\")  # Outputs: Alice\n",
    "print(f\"City: {...}\")  # Outputs: New York\n",
    "\n",
    "# Step 4: Modify the age attribute\n",
    "person1.age = ...\n",
    "print(f\"Age: {person1.age}\")"
   ]
  },
  {
   "cell_type": "markdown",
   "id": "16a75254-9283-40f5-aa32-60e3e7ef186e",
   "metadata": {},
   "source": [
    "# **3. Functions in Python**"
   ]
  },
  {
   "attachments": {},
   "cell_type": "markdown",
   "id": "8890f24e-548c-44a9-b42d-a2b40a51d609",
   "metadata": {
    "jp-MarkdownHeadingCollapsed": true
   },
   "source": [
    "**Ex 3.1: Divide numbers**\n",
    "\n",
    "**Step 1: Define the Function**\n",
    "- Create a function named `divide_numbers` that accepts two parameters: `a` (dividend) and `b` (divisor).\n",
    "- Ensure the function has a docstring explaining its purpose.\n",
    "\n",
    "**Step 2: Perform the Division**\n",
    "- Calculate the **quotient** (integer division) of `a` divided by `b`.\n",
    "- Calculate the **remainder** (modulus operation) of `a` divided by `b`.\n",
    "\n",
    "**Step 3: Return the Results**\n",
    "- Return both the quotient and remainder as a tuple.\n",
    "\n",
    "**Step 4: Test the Function**\n",
    "- Call the function with sample inputs (e.g., `a = 10` and `b = 3`).\n",
    "- Store the returned values in two variables and print them in a user-friendly format.\n",
    "\n",
    "---\n",
    "\n",
    "**Example Input**\n",
    "```python\n",
    "a = 10\n",
    "b = 3"
   ]
  },
  {
   "cell_type": "code",
   "execution_count": null,
   "id": "a344362b-c6a4-4b7b-920e-8e1d3c4fb283",
   "metadata": {},
   "outputs": [],
   "source": [
    "# Your solution\n",
    "\n",
    "def divide_numbers(a, b):\n",
    "    \"\"\"Returns the quotient and remainder of two numbers.\"\"\"\n",
    "    quotient = ...\n",
    "    remainder = ...\n",
    "    return quotient, remainder\n",
    "\n",
    "a = 10\n",
    "b = 3\n",
    "print(divide_numbers(a, b))"
   ]
  },
  {
   "cell_type": "markdown",
   "id": "5dcd6330-449f-428c-88c0-8cc5b6c76203",
   "metadata": {},
   "source": [
    "**Ex 3.2 Greeting Function**\n",
    "\n",
    "Create a function called `greet` that takes two parameters: \n",
    "1. `language` - a string that specifies the language `\"en\"` or `\"it\"`( with `it` as default value).\n",
    "2. `name` - the name of the person to greet.\n",
    "\n",
    "The function should:\n",
    "- Return `\"Hello, [name]!\"` if the language is `\"en\"`.\n",
    "- Return `\"Ciao, [name]!\"` if the language is `\"it\"`.\n",
    "\n",
    "Test the function with different combinations of `language` and `name`."
   ]
  },
  {
   "cell_type": "code",
   "execution_count": null,
   "id": "6d7cba97-a314-4f6c-b35a-c362630b47a8",
   "metadata": {},
   "outputs": [],
   "source": [
    "# Your solution\n",
    "\n",
    "def greet(name, language='it'):\n",
    "    if ...\":\n",
    "        return f\"Hello, {name}!\"\n",
    "    elif ...:\n",
    "        return f\"Ciao, {name}!\"\n",
    "    else:\n",
    "        return f\"Language not supported.\""
   ]
  },
  {
   "cell_type": "code",
   "execution_count": null,
   "id": "7e79dbba-3150-417b-8a8b-9ed29d17fc19",
   "metadata": {},
   "outputs": [],
   "source": [
    "# Test cases\n",
    "print(greet(\"Alice\", \"en\"))  # Output: Hello, Alice!\n",
    "print(greet(\"Luigi\", \"it\"))  # Output: Ciao, Luigi!\n",
    "print(greet(\"Francesco\"))  # Output: Ciao, Luigi!\n",
    "print(greet(\"Maria\", \"es\"))  # Output: Language not supported, Maria!"
   ]
  },
  {
   "cell_type": "markdown",
   "id": "8ff6f957-2c94-4fce-aade-e005cbf2c521",
   "metadata": {},
   "source": [
    "# **4. Methods**"
   ]
  },
  {
   "cell_type": "code",
   "execution_count": null,
   "id": "eb2e1191-9edf-40cd-86f9-f3847a7522f6",
   "metadata": {},
   "outputs": [],
   "source": [
    "# Example: Class Method vs Instance Method\n",
    "\n",
    "class Employee:\n",
    "    company_name = \"TechCorp\"  # Class-level attribute\n",
    "\n",
    "    def __init__(self, name, age):\n",
    "        self.name = name  # Instance-level attribute\n",
    "        self.age = age    # Instance-level attribute\n",
    "\n",
    "    # Instance method\n",
    "    def display_details(self):\n",
    "        return f\"Name: {self.name}, Age: {self.age}, Company: {Employee.company_name}\"\n",
    "\n",
    "    # Class method\n",
    "    @classmethod\n",
    "    def company_info(cls):\n",
    "        # Cannot access self.name or self.age because they belong to the instance\n",
    "        return f\"Company Name: {cls.company_name}\""
   ]
  },
  {
   "cell_type": "code",
   "execution_count": null,
   "id": "bdf1b0a8-ecdd-48f9-9171-7c8d840e6ddf",
   "metadata": {},
   "outputs": [],
   "source": [
    "# Create an instance of Employee\n",
    "emp = Employee(\"Alice\", 30)\n",
    "\n",
    "# Call instance method\n",
    "print(emp.display_details())  # Accesses instance and class-level data\n",
    "\n",
    "# Call class method\n",
    "print(Employee.company_info())  # Accesses only class-level data"
   ]
  },
  {
   "cell_type": "code",
   "execution_count": null,
   "id": "d9ad7329-1dc1-45fd-aa4a-6a4c0f3d8606",
   "metadata": {},
   "outputs": [],
   "source": [
    "# Instance calling class method\n",
    "emp.company_info()"
   ]
  },
  {
   "cell_type": "code",
   "execution_count": null,
   "id": "c7b8f05c-4179-4d13-bb7d-81a20f748fd0",
   "metadata": {},
   "outputs": [],
   "source": [
    "# Class calling instance method\n",
    "Employee.display_details()"
   ]
  },
  {
   "cell_type": "markdown",
   "id": "4d9ccabb-4ad6-47b2-a964-a309a5b07e7e",
   "metadata": {},
   "source": [
    "**Explanation:**\n",
    "\n",
    "1. Instance Method (display_details):\n",
    "    - Can access both instance attributes (name, age) and class attributes (company_name).\n",
    "    - Uses self to refer to the instance.\n",
    "\n",
    "2. Class Method (company_info):\n",
    "    - Can only access class attributes (company_name).\n",
    "    - Uses cls to refer to the class.\n",
    "    - Cannot access name or age because they are instance-specific attributes."
   ]
  },
  {
   "cell_type": "markdown",
   "id": "2278ca02-7206-41d1-bfc7-5c8ab73829b4",
   "metadata": {},
   "source": [
    "# **5. Core Principles of OOP**"
   ]
  },
  {
   "cell_type": "code",
   "execution_count": null,
   "id": "d59b1831-2cf0-446d-9a20-aaaa56320bd5",
   "metadata": {},
   "outputs": [],
   "source": [
    "# Exercise 5.1 \n",
    "\n",
    "# Define the parent class Vehicle\n",
    "class Vehicle:\n",
    "    def __init__(self, type_of_vehicle=\"unknown\"):\n",
    "        self.type_of_vehicle = type_of_vehicle  # Instance attribute for vehicle type\n",
    "\n",
    "# Create an instance of Vehicle with the default type\n",
    "my_v = Vehicle()\n",
    "\n",
    "# Create another instance of Vehicle, specifying the type as \"Bike\"\n",
    "my_v = Vehicle(\"Bike\")\n",
    "\n",
    "# Display the attributes of the instance as a dictionary\n",
    "print(\"My vehicle's attributes: \", my_v.__dict__)\n",
    "\n",
    "# Define a subclass Car that inherits from Vehicle\n",
    "class Car(Vehicle):\n",
    "    number_of_wheels = 4  # Class-level attribute specific to cars\n",
    "\n",
    "    def __init__(self, make=\"unknown\", model=\"unknown\"):\n",
    "        super().__init__(\"Car\")  # Call the initializer of the parent Vehicle class\n",
    "        self.make = make         # Instance attribute for car make\n",
    "        self.model = model       # Instance attribute for car model\n",
    "\n",
    "# Create an instance of Car, specifying the make and model\n",
    "my_c = Car(\"Fiat\", \"Panda\")\n",
    "\n",
    "# Display the attributes of the Car instance as a dictionary\n",
    "print(\"My car's attributes: \", my_c.__dict__)\n",
    "\n",
    "# Access the class-level attribute for the number of wheels\n",
    "print(\"My car's number of wheels: \", my_c.number_of_wheels)\n",
    "\n",
    "# Define a subclass Bike that inherits from Vehicle\n",
    "class Bike(Vehicle):\n",
    "    number_of_wheels = 2  # Class-level attribute specific to bikes\n",
    "\n",
    "    def __init__(self, make='unknown', model='unknown'):\n",
    "        super().__init__(\"Bike\")  # Call the initializer of the parent Vehicle class\n",
    "        self.make = make          # Instance attribute for bike make\n",
    "        self.model = model        # Instance attribute for bike model\n",
    "\n",
    "# Create an instance of Bike with default make and model\n",
    "my_b = Bike()\n",
    "\n",
    "# Access the class-level attribute for the number of wheels\n",
    "print(\"My bike's number of wheels: \", my_b.number_of_wheels)\n",
    "\n",
    "# Access the instance attribute for the make\n",
    "print(\"My bike's attributes: \", my_b.make)\n"
   ]
  }
 ],
 "metadata": {
  "kernelspec": {
   "display_name": "Python 3 (ipykernel)",
   "language": "python",
   "name": "python3"
  },
  "language_info": {
   "codemirror_mode": {
    "name": "ipython",
    "version": 3
   },
   "file_extension": ".py",
   "mimetype": "text/x-python",
   "name": "python",
   "nbconvert_exporter": "python",
   "pygments_lexer": "ipython3",
   "version": "3.11.7"
  }
 },
 "nbformat": 4,
 "nbformat_minor": 5
}
